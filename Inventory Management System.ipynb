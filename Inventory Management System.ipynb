{
 "cells": [
  {
   "cell_type": "code",
   "execution_count": 1,
   "id": "2582b66e",
   "metadata": {},
   "outputs": [],
   "source": [
    "fd = open('Inventory.txt','w')\n",
    "fd.close()"
   ]
  },
  {
   "cell_type": "markdown",
   "id": "7d348090",
   "metadata": {},
   "source": [
    "# Product Details\n",
    "1. Product ID\n",
    "2. Name of Product\n",
    "3. Price of the Product\n",
    "4. Quantity\n",
    "5. Category"
   ]
  },
  {
   "cell_type": "code",
   "execution_count": 4,
   "id": "3e7524e3",
   "metadata": {},
   "outputs": [],
   "source": [
    "fd = open('Inventory.txt','r')\n",
    "txt = fd.read()\n",
    "fd.close()\n"
   ]
  },
  {
   "cell_type": "code",
   "execution_count": 6,
   "id": "8898a3fd",
   "metadata": {},
   "outputs": [
    {
     "ename": "TypeError",
     "evalue": "'_io.TextIOWrapper' object is not subscriptable",
     "output_type": "error",
     "traceback": [
      "\u001b[1;31m---------------------------------------------------------------------------\u001b[0m",
      "\u001b[1;31mTypeError\u001b[0m                                 Traceback (most recent call last)",
      "Cell \u001b[1;32mIn[6], line 1\u001b[0m\n\u001b[1;32m----> 1\u001b[0m fd[\u001b[38;5;241m1\u001b[39m]\n",
      "\u001b[1;31mTypeError\u001b[0m: '_io.TextIOWrapper' object is not subscriptable"
     ]
    }
   ],
   "source": [
    "fd[1]"
   ]
  },
  {
   "cell_type": "code",
   "execution_count": 18,
   "id": "32e0aaa2",
   "metadata": {},
   "outputs": [
    {
     "name": "stdout",
     "output_type": "stream",
     "text": [
      "1,Kismibar,2,100,2/25\n",
      "2,Cake,100,40,6/25\n",
      "3,DairyMilk,25,90,2/25\n",
      "4,Fogg,200,10,2/25\n",
      "5,Soil,40,13,6/25\n"
     ]
    }
   ],
   "source": [
    "print(txt)"
   ]
  },
  {
   "cell_type": "code",
   "execution_count": 19,
   "id": "c660b64e",
   "metadata": {},
   "outputs": [
    {
     "data": {
      "text/plain": [
       "'1,Kismibar,2,100,2/25\\n2,Cake,100,40,6/25\\n3,DairyMilk,25,90,2/25\\n4,Fogg,200,10,2/25\\n5,Soil,40,13,6/25'"
      ]
     },
     "execution_count": 19,
     "metadata": {},
     "output_type": "execute_result"
    }
   ],
   "source": [
    "txt"
   ]
  },
  {
   "cell_type": "code",
   "execution_count": 20,
   "id": "31e8e97c",
   "metadata": {},
   "outputs": [
    {
     "data": {
      "text/plain": [
       "5"
      ]
     },
     "execution_count": 20,
     "metadata": {},
     "output_type": "execute_result"
    }
   ],
   "source": [
    "len(txt.split('\\n'))"
   ]
  },
  {
   "cell_type": "code",
   "execution_count": 2,
   "id": "9e9ff45b",
   "metadata": {},
   "outputs": [],
   "source": [
    "fd = open('Inventory.txt','r')\n",
    "products = fd.read().split('\\n')\n",
    "fd.close()"
   ]
  },
  {
   "cell_type": "code",
   "execution_count": 3,
   "id": "e2d55ef1",
   "metadata": {},
   "outputs": [
    {
     "name": "stdout",
     "output_type": "stream",
     "text": [
      "['1', 'Kismibar', '2', '0', '2/25']\n",
      "['2', 'Cake', '100', '27', '6/25']\n",
      "['3', 'DairyMilk', '25', '90', '2/25']\n",
      "['4', 'Fogg', '200', '10', '2/25']\n",
      "['5', 'Soil', '40', '13', '6/25']\n"
     ]
    }
   ],
   "source": [
    "for product in products:\n",
    "    #print(product)\n",
    "    print(product.split(','))"
   ]
  },
  {
   "cell_type": "code",
   "execution_count": 4,
   "id": "d06ce4c5",
   "metadata": {},
   "outputs": [
    {
     "name": "stdout",
     "output_type": "stream",
     "text": [
      "Enter product ID: 76\n",
      "Enter product quantity: 89\n"
     ]
    }
   ],
   "source": [
    "ui_product_id = input('Enter product ID: ')\n",
    "ui_product_qn = input('Enter product quantity: ')\n",
    "\n",
    "for product in products:\n",
    "    if(product.split(',')[0] == ui_product_id):\n",
    "        print(product.split(','))"
   ]
  },
  {
   "cell_type": "code",
   "execution_count": 1,
   "id": "c60bc564",
   "metadata": {},
   "outputs": [],
   "source": [
    "import re\n",
    "\n",
    "def check_gmail(email):\n",
    "    pattern = r'^[a-zA-Z0-9._%+-]+@gmail\\.com$' #function to check correct email or not\n",
    "    if re.match(pattern, email):\n",
    "        return True\n",
    "    else:\n",
    "        return False"
   ]
  },
  {
   "cell_type": "code",
   "execution_count": 7,
   "id": "828ba631",
   "metadata": {},
   "outputs": [
    {
     "name": "stdout",
     "output_type": "stream",
     "text": [
      "Enter your Phone_no: 7488302354\n",
      "Enter your Email: abs\n",
      "Enter your Name: Ashutosh\n",
      "Enter product ID: 4\n",
      "Enter product quantity: 200\n",
      "Sorry we have not enough quantity\n",
      "We have only  10  quantity\n",
      "Would you like to purchese\n",
      "press Y/N : n\n",
      "Thanks\n"
     ]
    }
   ],
   "source": [
    "import time\n",
    "\n",
    "\n",
    "\n",
    "# taking the user input\n",
    "\n",
    "ui_userphone  = input('Enter your Phone_no: ')\n",
    "\n",
    "if(len(ui_userphone) != 10):\n",
    "    print('Please enter correct phone no. ')\n",
    "    ui_userphone  = input('Enter your Phone_no: ')\n",
    "    \n",
    "ui_usermail   = input('Enter your Email: ')\n",
    "ui_username   = input('Enter your Name: ')\n",
    "ui_product_id = input('Enter product ID: ')\n",
    "ui_product_qn = input('Enter product quantity: ')\n",
    "\n",
    "updated_product_lst = []\n",
    "\n",
    "for product in products:\n",
    "    product_details = product.split(',')\n",
    "    \n",
    "    # going through each product\n",
    "    \n",
    "    \n",
    "    if(product_details[0] == ui_product_id):\n",
    "        \n",
    "        # checking have enough quantity or not\n",
    "        \n",
    "        if((int(ui_product_qn) <= int(product_details[3]))):\n",
    "            \n",
    "            print('--------------------------------------------')\n",
    "            print('Product Name:    ',product_details[1])\n",
    "            print(\"Product Price:   \",product_details[2])\n",
    "            print(\"Product Expairy: \",product_details[4])\n",
    "            print(\"Your Quantity:   \",ui_product_qn)\n",
    "            print(\"Your Bill :      \",int(ui_product_qn)*int(product_details[2]))\n",
    "            print('--------------------------------------------')\n",
    "            print('Have a good day')\n",
    "            print('--------------------------------------------')\n",
    "\n",
    "            # now reduce the product quantity\n",
    "\n",
    "            product_details[3] = str(int(product_details[3])-int(ui_product_qn))\n",
    "            \n",
    "            # generating the history\n",
    "            \n",
    "            fd = open('Sales.txt','a')\n",
    "            sales_detail = ui_username +','+ ui_userphone +','+ ui_usermail +','+ ui_product_id +','+ product_details[1] +','+ ui_product_qn +','+ str(int(ui_product_qn)*int(product_details[2]))+','+time.ctime()+'\\n'\n",
    "            fd.write(sales_detail)\n",
    "            fd.close()\n",
    "            \n",
    "            # else go with all quantity\n",
    "            \n",
    "        else:\n",
    "            print('Sorry we have not enough quantity')\n",
    "            print('We have only ',product_details[3],' quantity')\n",
    "            print('Would you like to purchese')\n",
    "            \n",
    "            ch = input('press Y/N : ')\n",
    "            \n",
    "            if(ch == 'Y' or ch == 'y'):\n",
    "                print('--------------------------------------------')\n",
    "                print('Product Name:    ',product_details[1])\n",
    "                print(\"Product Price:   \",product_details[2])\n",
    "                print(\"Product Expairy: \",product_details[4])\n",
    "                print(\"Your Quantity:   \",product_details[3])\n",
    "                print(\"Your Bill :      \",int(product_details[3])*int(product_details[2]))\n",
    "                bill = int(product_details[3])*int(product_details[2])\n",
    "                bill1 = bill\n",
    "                if(bill > 500):\n",
    "                    discount = bill * (18 /100)\n",
    "                print('Your Discount :   ', bill1-discount)\n",
    "                print('Net Amount :      ', discount)\n",
    "                print('--------------------------------------------')\n",
    "                print('Have a good day')\n",
    "                print('--------------------------------------------')\n",
    "\n",
    "                # generating the history\n",
    "                \n",
    "                fd = open('Sales.txt','a')\n",
    "                sales_detail = ui_username +','+ ui_userphone +','+ ui_usermail +','+ ui_product_id +','+ product_details[1] +','+ ui_product_qn +','+ str(int(ui_product_qn)*int(product_details[2]))+','+time.ctime()+'\\n'\n",
    "                fd.write(sales_detail)\n",
    "                fd.close()\n",
    "                \n",
    "                # updating the inventory\n",
    "\n",
    "                product_details[3] = '0'\n",
    "                \n",
    "            else:\n",
    "                print('Thanks')\n",
    "                \n",
    "                \n",
    "                \n",
    "                \n",
    "        \n",
    "    updated_product_lst.append(product_details)\n",
    "    \n",
    "#Now updating the root file\n",
    "    \n",
    "lst = []\n",
    "\n",
    "# updating the inventory list\n",
    "\n",
    "for i in updated_product_lst:\n",
    "    prod = i[0] +','+ i[1] +','+ i[2] +','+ i[3] +','+ i[4] + '\\n'\n",
    "    lst.append(prod)\n",
    "    \n",
    "lst[-1] = lst[-1][:-1]\n",
    "\n",
    "# updating the inventory file\n",
    "\n",
    "fd = open('Inventory.txt','w')\n",
    "\n",
    "for i in lst:\n",
    "    fd.write(i)\n",
    "    \n",
    "fd.close()\n",
    "\n",
    "#print('Inventory Updated')\n",
    "\n",
    "# add many functionallity into it \n",
    "# like check coorct phone no or not by len ()\n",
    "# check correct email or not\n",
    "# and many more things\n",
    "        "
   ]
  },
  {
   "cell_type": "code",
   "execution_count": null,
   "id": "0b17a10a",
   "metadata": {},
   "outputs": [],
   "source": []
  },
  {
   "cell_type": "code",
   "execution_count": null,
   "id": "2838a3c5",
   "metadata": {},
   "outputs": [],
   "source": []
  }
 ],
 "metadata": {
  "kernelspec": {
   "display_name": "Python 3 (ipykernel)",
   "language": "python",
   "name": "python3"
  },
  "language_info": {
   "codemirror_mode": {
    "name": "ipython",
    "version": 3
   },
   "file_extension": ".py",
   "mimetype": "text/x-python",
   "name": "python",
   "nbconvert_exporter": "python",
   "pygments_lexer": "ipython3",
   "version": "3.11.5"
  }
 },
 "nbformat": 4,
 "nbformat_minor": 5
}
